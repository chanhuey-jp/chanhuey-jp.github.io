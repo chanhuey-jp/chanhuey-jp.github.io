





!cat publications.tsv





import pandas as pd





publications = pd.read_csv("publications.tsv", sep="\t", header=0)
publications






html_escape_table = {
    "&": "&amp;",
    '"': "&quot;",
    "'": "&apos;"
    }

def html_escape(text):
    """Produce entities within text."""
    return "".join(html_escape_table.get(c,c) for c in text)





import os

for row, item in publications.iterrows():
    md_filename = str(item.pub_date) + "-" + item.url_slug + ".md"
    html_filename = str(item.pub_date) + "-" + item.url_slug
    year = item.pub_date[:4]

    ## YAML variables
    md = "---\n"
    md += f'title: "{item.title}"\n'
    md += "collection: publications\n"

    category = item.get("category", "manuscripts")  # 取值或默认
    md += f"category: {category}\n"
    
    md += f"permalink: /publication/{html_filename}\n"

    #if len(str(item.excerpt)) > 5:
        #md += f"excerpt: '{html_escape(item.excerpt)}'\n"

    md += f"date: {item.pub_date}\n"
    md += f"venue: '{html_escape(item.venue)}'\n"

    if len(str(item.slides_url)) > 5:
        md += f"slidesurl: '{item.slides_url}'\n"

    if len(str(item.paper_url)) > 5:
        md += f"paperurl: '{item.paper_url}'\n"

    #md += f"citation: '{html_escape(item.citation)}'\n" #不需要citation
    md += "---\n"

    ## Markdown description for individual page
    if len(str(item.excerpt)) > 5:
        md += f"\n{html_escape(item.excerpt)}\n"

    if len(str(item.slides_url)) > 5:
        md += f"\n[Download slides here]({item.slides_url})\n"

    if len(str(item.paper_url)) > 5:
        md += f"\n[Download paper here]({item.paper_url})\n"

    #md += f"\nRecommended citation: {item.citation}" #不需要citation

    md_filename = os.path.basename(md_filename)

    with open(f"../_publications/{md_filename}", "w") as f:
        f.write(md)






!ls ../_publications/


!cat ../_publications/2009-10-01-paper-title-number-1.md



