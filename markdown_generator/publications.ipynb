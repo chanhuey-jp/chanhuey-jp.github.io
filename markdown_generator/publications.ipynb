{
 "cells": [
  {
   "cell_type": "markdown",
   "metadata": {
    "deletable": true,
    "editable": true
   },
   "source": [
    "# Publications markdown generator for academicpages\n",
    "\n",
    "Takes a TSV of publications with metadata and converts them for use with [academicpages.github.io](academicpages.github.io). This is an interactive Jupyter notebook ([see more info here](http://jupyter-notebook-beginner-guide.readthedocs.io/en/latest/what_is_jupyter.html)). The core python code is also in `publications.py`. Run either from the `markdown_generator` folder after replacing `publications.tsv` with one containing your data.\n",
    "\n",
    "TODO: Make this work with BibTex and other databases of citations, rather than Stuart's non-standard TSV format and citation style.\n"
   ]
  },
  {
   "cell_type": "markdown",
   "metadata": {},
   "source": [
    "## Data format\n",
    "\n",
    "The TSV needs to have the following columns: pub_date, title, venue, excerpt, citation, site_url, and paper_url, with a header at the top. \n",
    "\n",
    "- `excerpt` and `paper_url` can be blank, but the others must have values. \n",
    "- `pub_date` must be formatted as YYYY-MM-DD.\n",
    "- `url_slug` will be the descriptive part of the .md file and the permalink URL for the page about the paper. The .md file will be `YYYY-MM-DD-[url_slug].md` and the permalink will be `https://[yourdomain]/publications/YYYY-MM-DD-[url_slug]`\n",
    "\n",
    "This is how the raw file looks (it doesn't look pretty, use a spreadsheet or other program to edit and create)."
   ]
  },
  {
   "cell_type": "code",
   "execution_count": 3,
   "metadata": {
    "collapsed": false,
    "jupyter": {
     "outputs_hidden": false
    }
   },
   "outputs": [
    {
     "name": "stdout",
     "output_type": "stream",
     "text": [
      "pub_date\ttitle\tvenue\tcategory\texcerpt\tcitation\turl_slug\tpaper_url\tslides_url\n",
      "2024-02-17\tDevelopment of redox-type thermochemical energy storage module: A support-free porous foam made of CuMn2O4/CuMnO2 redox couple\tChemical Engineering Journal\tmanuscripts\t\t\"Your Name, You. (2009). \"\"Paper Title Number 1.\"\" <i>Journal 1</i>. 1(1).\"\tpaper-title-number-1\t10.1016/j.cej.2024.149540\t\n",
      "2023-08-05\t\"An in-depth oxidation kinetic study of CuCrxMn1-xO2 (x = 0, 0.1, 0.3) for thermochemical energy storage at medium-high temperature\"\tSolar Energy Materials and Solar Cells\tmanuscripts\t\t\"Your Name, You. (2009). \"\"Paper Title Number 1.\"\" <i>Journal 1</i>. 1(1).\"\tpaper-title-number-2\t10.1016/j.solmat.2023.112495\t\n",
      "2022-04-26\tEffect of Cr Addition on Cu–Mn Spinel/Delafossite Redox Couples for Medium-High Temperature Thermochemical Energy Storage\tACS Applied Energy Materials\tmanuscripts\t\t\"Your Name, You. (2009). \"\"Paper Title Number 1.\"\" <i>Journal 1</i>. 1(1).\"\tpaper-title-number-3\t10.1021/acsaem.2c00178\t\n",
      "2021-07-08\tExploring Cu-Based Spinel/Delafossite Couples for Thermochemical Energy Storage at Medium-High Temperature\tACS Applied Energy Materials\tmanuscripts\t\t\"Your Name, You. (2009). \"\"Paper Title Number 1.\"\" <i>Journal 1</i>. 1(1).\"\tPaper-title-number-4\t10.1021/acsaem.1c01352\t\n",
      "2021-04-05\tInvestigation of Sr-based perovskites for redox-type thermochemical energy storage media at medium-high temperature\tJournal of Energy Storage\tmanuscripts\t\t\"Your Name, You. (2009). \"\"Paper Title Number 1.\"\" <i>Journal 1</i>. 1(1).\"\tPaper-title-number-5\t10.1016/j.est.2021.102501\t"
     ]
    }
   ],
   "source": [
    "!cat publications.tsv"
   ]
  },
  {
   "cell_type": "markdown",
   "metadata": {},
   "source": [
    "## Import pandas\n",
    "\n",
    "We are using the very handy pandas library for dataframes."
   ]
  },
  {
   "cell_type": "code",
   "execution_count": 5,
   "metadata": {
    "deletable": true,
    "editable": true
   },
   "outputs": [],
   "source": [
    "import pandas as pd"
   ]
  },
  {
   "cell_type": "markdown",
   "metadata": {},
   "source": [
    "## Import TSV\n",
    "\n",
    "Pandas makes this easy with the read_csv function. We are using a TSV, so we specify the separator as a tab, or `\\t`.\n",
    "\n",
    "I found it important to put this data in a tab-separated values format, because there are a lot of commas in this kind of data and comma-separated values can get messed up. However, you can modify the import statement, as pandas also has read_excel(), read_json(), and others."
   ]
  },
  {
   "cell_type": "code",
   "execution_count": 7,
   "metadata": {
    "collapsed": false,
    "deletable": true,
    "editable": true,
    "jupyter": {
     "outputs_hidden": false
    }
   },
   "outputs": [
    {
     "data": {
      "text/html": [
       "<div>\n",
       "<style scoped>\n",
       "    .dataframe tbody tr th:only-of-type {\n",
       "        vertical-align: middle;\n",
       "    }\n",
       "\n",
       "    .dataframe tbody tr th {\n",
       "        vertical-align: top;\n",
       "    }\n",
       "\n",
       "    .dataframe thead th {\n",
       "        text-align: right;\n",
       "    }\n",
       "</style>\n",
       "<table border=\"1\" class=\"dataframe\">\n",
       "  <thead>\n",
       "    <tr style=\"text-align: right;\">\n",
       "      <th></th>\n",
       "      <th>pub_date</th>\n",
       "      <th>title</th>\n",
       "      <th>venue</th>\n",
       "      <th>category</th>\n",
       "      <th>excerpt</th>\n",
       "      <th>citation</th>\n",
       "      <th>url_slug</th>\n",
       "      <th>paper_url</th>\n",
       "      <th>slides_url</th>\n",
       "    </tr>\n",
       "  </thead>\n",
       "  <tbody>\n",
       "    <tr>\n",
       "      <th>0</th>\n",
       "      <td>2024-02-17</td>\n",
       "      <td>Development of redox-type thermochemical energ...</td>\n",
       "      <td>Chemical Engineering Journal</td>\n",
       "      <td>manuscripts</td>\n",
       "      <td>NaN</td>\n",
       "      <td>Your Name, You. (2009). \"Paper Title Number 1....</td>\n",
       "      <td>paper-title-number-1</td>\n",
       "      <td>10.1016/j.cej.2024.149540</td>\n",
       "      <td>NaN</td>\n",
       "    </tr>\n",
       "    <tr>\n",
       "      <th>1</th>\n",
       "      <td>2023-08-05</td>\n",
       "      <td>An in-depth oxidation kinetic study of CuCrxMn...</td>\n",
       "      <td>Solar Energy Materials and Solar Cells</td>\n",
       "      <td>manuscripts</td>\n",
       "      <td>NaN</td>\n",
       "      <td>Your Name, You. (2009). \"Paper Title Number 1....</td>\n",
       "      <td>paper-title-number-2</td>\n",
       "      <td>10.1016/j.solmat.2023.112495</td>\n",
       "      <td>NaN</td>\n",
       "    </tr>\n",
       "    <tr>\n",
       "      <th>2</th>\n",
       "      <td>2022-04-26</td>\n",
       "      <td>Effect of Cr Addition on Cu–Mn Spinel/Delafoss...</td>\n",
       "      <td>ACS Applied Energy Materials</td>\n",
       "      <td>manuscripts</td>\n",
       "      <td>NaN</td>\n",
       "      <td>Your Name, You. (2009). \"Paper Title Number 1....</td>\n",
       "      <td>paper-title-number-3</td>\n",
       "      <td>10.1021/acsaem.2c00178</td>\n",
       "      <td>NaN</td>\n",
       "    </tr>\n",
       "    <tr>\n",
       "      <th>3</th>\n",
       "      <td>2021-07-08</td>\n",
       "      <td>Exploring Cu-Based Spinel/Delafossite Couples ...</td>\n",
       "      <td>ACS Applied Energy Materials</td>\n",
       "      <td>manuscripts</td>\n",
       "      <td>NaN</td>\n",
       "      <td>Your Name, You. (2009). \"Paper Title Number 1....</td>\n",
       "      <td>Paper-title-number-4</td>\n",
       "      <td>10.1021/acsaem.1c01352</td>\n",
       "      <td>NaN</td>\n",
       "    </tr>\n",
       "    <tr>\n",
       "      <th>4</th>\n",
       "      <td>2021-04-05</td>\n",
       "      <td>Investigation of Sr-based perovskites for redo...</td>\n",
       "      <td>Journal of Energy Storage</td>\n",
       "      <td>manuscripts</td>\n",
       "      <td>NaN</td>\n",
       "      <td>Your Name, You. (2009). \"Paper Title Number 1....</td>\n",
       "      <td>Paper-title-number-5</td>\n",
       "      <td>10.1016/j.est.2021.102501</td>\n",
       "      <td>NaN</td>\n",
       "    </tr>\n",
       "  </tbody>\n",
       "</table>\n",
       "</div>"
      ],
      "text/plain": [
       "     pub_date                                              title  \\\n",
       "0  2024-02-17  Development of redox-type thermochemical energ...   \n",
       "1  2023-08-05  An in-depth oxidation kinetic study of CuCrxMn...   \n",
       "2  2022-04-26  Effect of Cr Addition on Cu–Mn Spinel/Delafoss...   \n",
       "3  2021-07-08  Exploring Cu-Based Spinel/Delafossite Couples ...   \n",
       "4  2021-04-05  Investigation of Sr-based perovskites for redo...   \n",
       "\n",
       "                                    venue     category  excerpt  \\\n",
       "0            Chemical Engineering Journal  manuscripts      NaN   \n",
       "1  Solar Energy Materials and Solar Cells  manuscripts      NaN   \n",
       "2            ACS Applied Energy Materials  manuscripts      NaN   \n",
       "3            ACS Applied Energy Materials  manuscripts      NaN   \n",
       "4               Journal of Energy Storage  manuscripts      NaN   \n",
       "\n",
       "                                            citation              url_slug  \\\n",
       "0  Your Name, You. (2009). \"Paper Title Number 1....  paper-title-number-1   \n",
       "1  Your Name, You. (2009). \"Paper Title Number 1....  paper-title-number-2   \n",
       "2  Your Name, You. (2009). \"Paper Title Number 1....  paper-title-number-3   \n",
       "3  Your Name, You. (2009). \"Paper Title Number 1....  Paper-title-number-4   \n",
       "4  Your Name, You. (2009). \"Paper Title Number 1....  Paper-title-number-5   \n",
       "\n",
       "                      paper_url  slides_url  \n",
       "0     10.1016/j.cej.2024.149540         NaN  \n",
       "1  10.1016/j.solmat.2023.112495         NaN  \n",
       "2        10.1021/acsaem.2c00178         NaN  \n",
       "3        10.1021/acsaem.1c01352         NaN  \n",
       "4     10.1016/j.est.2021.102501         NaN  "
      ]
     },
     "execution_count": 7,
     "metadata": {},
     "output_type": "execute_result"
    }
   ],
   "source": [
    "publications = pd.read_csv(\"publications.tsv\", sep=\"\\t\", header=0)\n",
    "publications\n"
   ]
  },
  {
   "cell_type": "markdown",
   "metadata": {},
   "source": [
    "## Escape special characters\n",
    "\n",
    "YAML is very picky about how it takes a valid string, so we are replacing single and double quotes (and ampersands) with their HTML encoded equivilents. This makes them look not so readable in raw format, but they are parsed and rendered nicely."
   ]
  },
  {
   "cell_type": "code",
   "execution_count": 9,
   "metadata": {
    "deletable": true,
    "editable": true
   },
   "outputs": [],
   "source": [
    "html_escape_table = {\n",
    "    \"&\": \"&amp;\",\n",
    "    '\"': \"&quot;\",\n",
    "    \"'\": \"&apos;\"\n",
    "    }\n",
    "\n",
    "def html_escape(text):\n",
    "    \"\"\"Produce entities within text.\"\"\"\n",
    "    return \"\".join(html_escape_table.get(c,c) for c in text)"
   ]
  },
  {
   "cell_type": "markdown",
   "metadata": {},
   "source": [
    "## Creating the markdown files\n",
    "\n",
    "This is where the heavy lifting is done. This loops through all the rows in the TSV dataframe, then starts to concatentate a big string (```md```) that contains the markdown for each type. It does the YAML metadata first, then does the description for the individual page."
   ]
  },
  {
   "cell_type": "code",
   "execution_count": 11,
   "metadata": {
    "collapsed": false,
    "deletable": true,
    "editable": true,
    "jupyter": {
     "outputs_hidden": false
    }
   },
   "outputs": [],
   "source": [
    "import os\n",
    "\n",
    "for row, item in publications.iterrows():\n",
    "    md_filename = str(item.pub_date) + \"-\" + item.url_slug + \".md\"\n",
    "    html_filename = str(item.pub_date) + \"-\" + item.url_slug\n",
    "    year = item.pub_date[:4]\n",
    "\n",
    "    ## YAML variables\n",
    "    md = \"---\\n\"\n",
    "    md += f'title: \"{item.title}\"\\n'\n",
    "    md += \"collection: publications\\n\"\n",
    "\n",
    "    category = item.get(\"category\", \"manuscripts\")  # 取值或默认\n",
    "    md += f\"category: {category}\\n\"\n",
    "    \n",
    "    md += f\"permalink: /publication/{html_filename}\\n\"\n",
    "\n",
    "    #if len(str(item.excerpt)) > 5:\n",
    "        #md += f\"excerpt: '{html_escape(item.excerpt)}'\\n\"\n",
    "\n",
    "    md += f\"date: {item.pub_date}\\n\"\n",
    "    md += f\"venue: '{html_escape(item.venue)}'\\n\"\n",
    "\n",
    "    if len(str(item.slides_url)) > 5:\n",
    "        md += f\"slidesurl: '{item.slides_url}'\\n\"\n",
    "\n",
    "    if len(str(item.paper_url)) > 5:\n",
    "        md += f\"paperurl: '{item.paper_url}'\\n\"\n",
    "\n",
    "    #md += f\"citation: '{html_escape(item.citation)}'\\n\" #不需要citation\n",
    "    md += \"---\\n\"\n",
    "\n",
    "    ## Markdown description for individual page\n",
    "    if len(str(item.excerpt)) > 5:\n",
    "        md += f\"\\n{html_escape(item.excerpt)}\\n\"\n",
    "\n",
    "    #if len(str(item.slides_url)) > 5:\n",
    "        #md += f\"\\n[Download slides here]({item.slides_url})\\n\"\n",
    "\n",
    "    #if len(str(item.paper_url)) > 5:\n",
    "        #md += f\"\\n[Download paper here]({item.paper_url})\\n\"\n",
    "\n",
    "    #md += f\"\\nRecommended citation: {item.citation}\" #不需要citation\n",
    "\n",
    "    md_filename = os.path.basename(md_filename)\n",
    "\n",
    "    with open(f\"../_publications/{md_filename}\", \"w\") as f:\n",
    "        f.write(md)\n"
   ]
  },
  {
   "cell_type": "markdown",
   "metadata": {},
   "source": [
    "These files are in the publications directory, one directory below where we're working from."
   ]
  },
  {
   "cell_type": "code",
   "execution_count": 13,
   "metadata": {
    "collapsed": false,
    "deletable": true,
    "editable": true,
    "jupyter": {
     "outputs_hidden": false
    }
   },
   "outputs": [
    {
     "name": "stdout",
     "output_type": "stream",
     "text": [
      "2021-04-05-Paper-title-number-5.md 2023-08-05-paper-title-number-2.md\n",
      "2021-07-08-Paper-title-number-4.md 2024-02-17-paper-title-number-1.md\n",
      "2022-04-26-paper-title-number-3.md\n"
     ]
    }
   ],
   "source": [
    "!ls ../_publications/"
   ]
  },
  {
   "cell_type": "code",
   "execution_count": 14,
   "metadata": {
    "collapsed": false,
    "deletable": true,
    "editable": true,
    "jupyter": {
     "outputs_hidden": false
    }
   },
   "outputs": [
    {
     "name": "stdout",
     "output_type": "stream",
     "text": [
      "cat: ../_publications/2009-10-01-paper-title-number-1.md: No such file or directory\n"
     ]
    }
   ],
   "source": [
    "!cat ../_publications/2009-10-01-paper-title-number-1.md"
   ]
  },
  {
   "cell_type": "code",
   "execution_count": null,
   "metadata": {
    "collapsed": true,
    "deletable": true,
    "editable": true,
    "jupyter": {
     "outputs_hidden": true
    }
   },
   "outputs": [],
   "source": []
  }
 ],
 "metadata": {
  "kernelspec": {
   "display_name": "Python 3 (ipykernel)",
   "language": "python",
   "name": "python3"
  },
  "language_info": {
   "codemirror_mode": {
    "name": "ipython",
    "version": 3
   },
   "file_extension": ".py",
   "mimetype": "text/x-python",
   "name": "python",
   "nbconvert_exporter": "python",
   "pygments_lexer": "ipython3",
   "version": "3.12.2"
  }
 },
 "nbformat": 4,
 "nbformat_minor": 4
}
