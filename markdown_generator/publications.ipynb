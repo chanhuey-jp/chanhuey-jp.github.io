{
 "cells": [
  {
   "cell_type": "markdown",
   "metadata": {
    "deletable": true,
    "editable": true
   },
   "source": [
    "# Publications markdown generator for academicpages\n",
    "\n",
    "Takes a TSV of publications with metadata and converts them for use with [academicpages.github.io](academicpages.github.io). This is an interactive Jupyter notebook ([see more info here](http://jupyter-notebook-beginner-guide.readthedocs.io/en/latest/what_is_jupyter.html)). The core python code is also in `publications.py`. Run either from the `markdown_generator` folder after replacing `publications.tsv` with one containing your data.\n",
    "\n",
    "TODO: Make this work with BibTex and other databases of citations, rather than Stuart's non-standard TSV format and citation style.\n"
   ]
  },
  {
   "cell_type": "markdown",
   "metadata": {},
   "source": [
    "## Data format\n",
    "\n",
    "The TSV needs to have the following columns: pub_date, title, venue, excerpt, citation, site_url, and paper_url, with a header at the top. \n",
    "\n",
    "- `excerpt` and `paper_url` can be blank, but the others must have values. \n",
    "- `pub_date` must be formatted as YYYY-MM-DD.\n",
    "- `url_slug` will be the descriptive part of the .md file and the permalink URL for the page about the paper. The .md file will be `YYYY-MM-DD-[url_slug].md` and the permalink will be `https://[yourdomain]/publications/YYYY-MM-DD-[url_slug]`\n",
    "\n",
    "This is how the raw file looks (it doesn't look pretty, use a spreadsheet or other program to edit and create)."
   ]
  },
  {
   "cell_type": "code",
   "execution_count": 3,
   "metadata": {
    "collapsed": false,
    "jupyter": {
     "outputs_hidden": false
    }
   },
   "outputs": [
    {
     "name": "stdout",
     "output_type": "stream",
     "text": [
      "pub_date\ttitle\tvenue\tcategory\texcerpt\turl_slug\tpaper_url\tslides_url\n",
      "2024-02-17\tDevelopment of redox-type thermochemical energy storage module: A support-free porous foam made of CuMn<sub>2</sub>O<sub>4</sub>/CuMnO<sub>2</sub> redox couple\tChemical Engineering Journal\tmanuscripts\t\"In this study, we developed a CuMn2O4/CuMnO2-based porous foam thermochemical energy storage (TCES) module, which is free from any supporting materials. The raw material of CuMn2O4/CuMnO2 was synthesized using co-precipitation method which is different with the Pechini method we have used in the previous study, aiming to a large-scale synthesis. The porous foam modules were prepared using polyurethane (PU) foam replica method. We investigated the sintering temperature and holding time as critical parameters affecting the mod­ ule’s mechanical strength, chemical reactivity, and durability. The optimal condition for CuMn2O4/CuMnO2based porous foam TCES module were identified as 1100 ℃ and 6 h. Our findings suggests that these modules are promising for the fixed-bed reactors in redox-type TCES systems.\"\tpaper-5\thttps://linkinghub.elsevier.com/retrieve/pii/S1385894724010258\t\n",
      "2023-08-05\t\"An in-depth oxidation kinetic study of CuCr<sub>x</sub>Mn<sub>1-x</sub>O<sub>2</sub> (x = 0, 0.1, 0.3) for thermochemical energy storage at medium-high temperature\"\tSolar Energy Materials and Solar Cells\tmanuscripts\t\"In this study, we investigated the effect of Cr doping on CuMn2O4/CuMnO2 and established an oxidation (heat release) kinetic model for CuCrxMn1-xO2 (x = 0, 0.1, 0.3) as an extension of our previous research on developing medium-high temperature (500–1000 ◦C) redox-type thermochemical energy storage materials. Our objective is to develop a reliable model for predicting the heat release power at constant temperature conditions. The asprepared samples were characterized using XRD Rietveld refinement, SEM-EDS, and XPS analysis to obtain a more precise crystal structure and elemental states. The oxidation kinetic model was established using an isothermal oxidation method which differs from the method (non-isothermal) used in the previous study. Additionally, the pressure term was also taken into consideration. The reaction models and kinetic parameters of CuMnO2, CuCr0.1Mn0.9O2 and CuCr0.3Mn0.7O2 were determined using master plots and Arrhenius plots. Among all sample, CuCr0.1Mn0.9O2 exhibited the smallest oxidation activation energy of 29.932 kJ/mol, which was significantly lower than the previous value obtained using the non-isothermal method. Combining the reaction rate and heat release, CuCr0.1Mn0.9O2 showed the highest instantaneous power output of 4.69 kW/kg at the oxygen partial pressure of 0.5.\"\tpaper-4\thttps://linkinghub.elsevier.com/retrieve/pii/S0927024823003161\t\n",
      "2022-04-26\tEffect of Cr Addition on Cu–Mn Spinel/Delafossite Redox Couples for Medium-High Temperature Thermochemical Energy Storage\tACS Applied Energy Materials\tmanuscripts\t\"In this study, we developed Cu(CrxMn1−x)2O4/ CuCrxMn1−xO2 (x = 0, 0.1, 0.3, 0.5, 0.7, 0.9, 1.0) redox couples for medium-high temperature (500−1000 °C) redox-type thermochemical energy storage systems. Structural characterization, redox behavior, reoxidation behavior and kinetic analysis, heat storage capacity, and cyclability were investigated using SEM-EDS, XRD, TGA, and DSC, respectively. When x = 0−0.5, samples exhibited decreasing operating temperatures with increasing amounts of Cr, whereas they lost their reversibility when x > 0.5. R-CuCr0.1Mn0.9 and R-CuCr0.3Mn0.7 showed a faster reaction rate than R-CuMn because samples with small amounts of Cr required a lower activation energy (Ea) for reoxidation. The DSC results showed that a small amount of Cr improved the heat storage capacity of materials. In the cyclability test, the introduction of a small amount of Cr did not cause the deterioration of cyclic properties.\"\tpaper-3\thttps://pubs.acs.org/doi/10.1021/acsaem.2c00178\t\n",
      "2021-07-08\tExploring Cu-Based Spinel/Delafossite Couples for Thermochemical Energy Storage at Medium-High Temperature\tACS Applied Energy Materials\tmanuscripts\t\"Cu-based spinel/delafossite couples with Mn and Fe as second cations were synthesized using the Pechini method for medium-high temperature thermochemical energy storage. Physicochemical properties of each sample were investigated. Only CuMn2O4/CuMnO2 exhibited favorable redox behavior in the range of 500−1000 °C. Cu-based delafossite can reoxidize at a lower temperature (∼600 °C), which may be related to the existence of a MO6 octahedra structure. Through the isothermal oxidation method, CuMn2O4/CuMnO2 couple showed a larger oxidation enthalpy of 258.32 ± 15.31 kJ/kg (1402.68 ± 83.13 kJ/L) than 190.35 ± 4.81 kJ/kg (1048.83 ± 26.50 kJ/L) of CuFe2O4/CuFeO2 couple. CuMn2O4 was chosen for further cyclability test with 20 cycles; the depth of reduction increased gradually and stabilized at 4% change in mass after 13 cycles.\"\tpaper-2\thttps://pubs.acs.org/doi/10.1021/acsaem.1c01352\t\n",
      "2021-04-05\tInvestigation of Sr-based perovskites for redox-type thermochemical energy storage media at medium-high temperature\tJournal of Energy Storage\tmanuscripts\t\"Thermochemical heat storage system exhibits extraordinary properties compared with sensible or latent heat storage system. Owing to the versatility of perovskite, Sr-based perovskites were investigated for redox-type thermochemical energy storage at medium-high temperature. In this study, SrCoO3-δ, SrFeO3-δ and SrMnO3-δ were prepared via a modified Pechini method. The oxidation enthalpy of each sample was measured using a combination of tubular furnace and DSC. Composition analysis, redox and cyclability tests revealed that SrFeO3-δ possesses favorable behavior validating the design principles.\"\tpaper-1\thttps://linkinghub.elsevier.com/retrieve/pii/S2352152X21002504\t\n",
      "2024-07-14\tDevelopment of rice husk composite ceramic sphere with enhanced radiation heat transfer for rapid heat storage and release at high temperature\tCeramics International\tmanuscripts\t\"Co-work with Dr. LIAO Shenghao (Former researcher from Kita-lab, Nagoya University)\"\tpaper-co-6\thttps://linkinghub.elsevier.com/retrieve/pii/S0272884224030475\t\n",
      "2024-05-29\tDevelopment of Macro-Encapsulated Phase-Change Material Using Composite of NaCl-Al<sub>2</sub>O<sub>3</sub> with Characteristics of Self-Standing\tProcesses\tmanuscripts\t\"Co-work with Dr. LIAO Shenghao (Former researcher from Kita-lab, Nagoya University)\"\tpaper-co-5\thttps://www.mdpi.com/2227-9717/12/6/1123\t\n",
      "2021-07-25\tTribological behaviour of B<sub>4</sub>C-SiC composite ceramics under water lubrication: influence of counterpart\tMaterials Science and Technology\tmanuscripts\t\"Co-work with Dr. ZHANG Wei (Former researcher from Kita-lab, Nagoya University)\"\tpaper-co-4\thttps://www.tandfonline.com/doi/full/10.1080/02670836.2021.1961365\t\n",
      "2021-04-22\tFrictional Characteristics of Carbide Ceramics in Water\tJournal of Tribology\tmanuscripts\t\"Co-work with Dr. ZHANG Wei (Former researcher from Kita-lab, Nagoya University)\"\tpaper-co-3\thttps://asmedigitalcollection.asme.org/tribology/article/144/1/011702/1106090/Frictional-Characteristics-of-Carbide-Ceramics-in\t\n",
      "2021-03-03\tB<sub>4</sub>C–SiC Ceramics with Interfacial Nanorelief Morphologies and Low Underwater Friction and Wear\tACS Applied Nano Materials\tmanuscripts\t\"Co-work with Dr. ZHANG Wei (Former researcher from Kita-lab, Nagoya University)\"\tpaper-co-2\thttps://pubs.acs.org/doi/10.1021/acsanm.1c00375\t\n",
      "2021-02-20\tEffect of Water Temperature on Tribological Performance of B<sub>4</sub>C-SiC Ceramics under Water Lubrication\tTribology Letters\tmanuscripts\t\"Co-work with Dr. ZHANG Wei (Former researcher from Kita-lab, Nagoya University)\"\tpaper-co-1\thttps://link.springer.com/article/10.1007/s11249-021-01406-0\t"
     ]
    }
   ],
   "source": [
    "!cat publications.tsv"
   ]
  },
  {
   "cell_type": "markdown",
   "metadata": {},
   "source": [
    "## Import pandas\n",
    "\n",
    "We are using the very handy pandas library for dataframes."
   ]
  },
  {
   "cell_type": "code",
   "execution_count": 5,
   "metadata": {
    "deletable": true,
    "editable": true
   },
   "outputs": [],
   "source": [
    "import pandas as pd"
   ]
  },
  {
   "cell_type": "markdown",
   "metadata": {},
   "source": [
    "## Import TSV\n",
    "\n",
    "Pandas makes this easy with the read_csv function. We are using a TSV, so we specify the separator as a tab, or `\\t`.\n",
    "\n",
    "I found it important to put this data in a tab-separated values format, because there are a lot of commas in this kind of data and comma-separated values can get messed up. However, you can modify the import statement, as pandas also has read_excel(), read_json(), and others."
   ]
  },
  {
   "cell_type": "code",
   "execution_count": 7,
   "metadata": {
    "collapsed": false,
    "deletable": true,
    "editable": true,
    "jupyter": {
     "outputs_hidden": false
    }
   },
   "outputs": [
    {
     "data": {
      "text/html": [
       "<div>\n",
       "<style scoped>\n",
       "    .dataframe tbody tr th:only-of-type {\n",
       "        vertical-align: middle;\n",
       "    }\n",
       "\n",
       "    .dataframe tbody tr th {\n",
       "        vertical-align: top;\n",
       "    }\n",
       "\n",
       "    .dataframe thead th {\n",
       "        text-align: right;\n",
       "    }\n",
       "</style>\n",
       "<table border=\"1\" class=\"dataframe\">\n",
       "  <thead>\n",
       "    <tr style=\"text-align: right;\">\n",
       "      <th></th>\n",
       "      <th>pub_date</th>\n",
       "      <th>title</th>\n",
       "      <th>venue</th>\n",
       "      <th>category</th>\n",
       "      <th>excerpt</th>\n",
       "      <th>url_slug</th>\n",
       "      <th>paper_url</th>\n",
       "      <th>slides_url</th>\n",
       "    </tr>\n",
       "  </thead>\n",
       "  <tbody>\n",
       "    <tr>\n",
       "      <th>0</th>\n",
       "      <td>2024-02-17</td>\n",
       "      <td>Development of redox-type thermochemical energ...</td>\n",
       "      <td>Chemical Engineering Journal</td>\n",
       "      <td>manuscripts</td>\n",
       "      <td>In this study, we developed a CuMn2O4/CuMnO2-b...</td>\n",
       "      <td>paper-5</td>\n",
       "      <td>https://linkinghub.elsevier.com/retrieve/pii/S...</td>\n",
       "      <td>NaN</td>\n",
       "    </tr>\n",
       "    <tr>\n",
       "      <th>1</th>\n",
       "      <td>2023-08-05</td>\n",
       "      <td>An in-depth oxidation kinetic study of CuCr&lt;su...</td>\n",
       "      <td>Solar Energy Materials and Solar Cells</td>\n",
       "      <td>manuscripts</td>\n",
       "      <td>In this study, we investigated the effect of C...</td>\n",
       "      <td>paper-4</td>\n",
       "      <td>https://linkinghub.elsevier.com/retrieve/pii/S...</td>\n",
       "      <td>NaN</td>\n",
       "    </tr>\n",
       "    <tr>\n",
       "      <th>2</th>\n",
       "      <td>2022-04-26</td>\n",
       "      <td>Effect of Cr Addition on Cu–Mn Spinel/Delafoss...</td>\n",
       "      <td>ACS Applied Energy Materials</td>\n",
       "      <td>manuscripts</td>\n",
       "      <td>In this study, we developed Cu(CrxMn1−x)2O4/ C...</td>\n",
       "      <td>paper-3</td>\n",
       "      <td>https://pubs.acs.org/doi/10.1021/acsaem.2c00178</td>\n",
       "      <td>NaN</td>\n",
       "    </tr>\n",
       "    <tr>\n",
       "      <th>3</th>\n",
       "      <td>2021-07-08</td>\n",
       "      <td>Exploring Cu-Based Spinel/Delafossite Couples ...</td>\n",
       "      <td>ACS Applied Energy Materials</td>\n",
       "      <td>manuscripts</td>\n",
       "      <td>Cu-based spinel/delafossite couples with Mn an...</td>\n",
       "      <td>paper-2</td>\n",
       "      <td>https://pubs.acs.org/doi/10.1021/acsaem.1c01352</td>\n",
       "      <td>NaN</td>\n",
       "    </tr>\n",
       "    <tr>\n",
       "      <th>4</th>\n",
       "      <td>2021-04-05</td>\n",
       "      <td>Investigation of Sr-based perovskites for redo...</td>\n",
       "      <td>Journal of Energy Storage</td>\n",
       "      <td>manuscripts</td>\n",
       "      <td>Thermochemical heat storage system exhibits ex...</td>\n",
       "      <td>paper-1</td>\n",
       "      <td>https://linkinghub.elsevier.com/retrieve/pii/S...</td>\n",
       "      <td>NaN</td>\n",
       "    </tr>\n",
       "    <tr>\n",
       "      <th>5</th>\n",
       "      <td>2024-07-14</td>\n",
       "      <td>Development of rice husk composite ceramic sph...</td>\n",
       "      <td>Ceramics International</td>\n",
       "      <td>manuscripts</td>\n",
       "      <td>Co-work with Dr. LIAO Shenghao (Former researc...</td>\n",
       "      <td>paper-co-6</td>\n",
       "      <td>https://linkinghub.elsevier.com/retrieve/pii/S...</td>\n",
       "      <td>NaN</td>\n",
       "    </tr>\n",
       "    <tr>\n",
       "      <th>6</th>\n",
       "      <td>2024-05-29</td>\n",
       "      <td>Development of Macro-Encapsulated Phase-Change...</td>\n",
       "      <td>Processes</td>\n",
       "      <td>manuscripts</td>\n",
       "      <td>Co-work with Dr. LIAO Shenghao (Former researc...</td>\n",
       "      <td>paper-co-5</td>\n",
       "      <td>https://www.mdpi.com/2227-9717/12/6/1123</td>\n",
       "      <td>NaN</td>\n",
       "    </tr>\n",
       "    <tr>\n",
       "      <th>7</th>\n",
       "      <td>2021-07-25</td>\n",
       "      <td>Tribological behaviour of B&lt;sub&gt;4&lt;/sub&gt;C-SiC c...</td>\n",
       "      <td>Materials Science and Technology</td>\n",
       "      <td>manuscripts</td>\n",
       "      <td>Co-work with Dr. ZHANG Wei (Former researcher ...</td>\n",
       "      <td>paper-co-4</td>\n",
       "      <td>https://www.tandfonline.com/doi/full/10.1080/0...</td>\n",
       "      <td>NaN</td>\n",
       "    </tr>\n",
       "    <tr>\n",
       "      <th>8</th>\n",
       "      <td>2021-04-22</td>\n",
       "      <td>Frictional Characteristics of Carbide Ceramics...</td>\n",
       "      <td>Journal of Tribology</td>\n",
       "      <td>manuscripts</td>\n",
       "      <td>Co-work with Dr. ZHANG Wei (Former researcher ...</td>\n",
       "      <td>paper-co-3</td>\n",
       "      <td>https://asmedigitalcollection.asme.org/tribolo...</td>\n",
       "      <td>NaN</td>\n",
       "    </tr>\n",
       "    <tr>\n",
       "      <th>9</th>\n",
       "      <td>2021-03-03</td>\n",
       "      <td>B&lt;sub&gt;4&lt;/sub&gt;C–SiC Ceramics with Interfacial N...</td>\n",
       "      <td>ACS Applied Nano Materials</td>\n",
       "      <td>manuscripts</td>\n",
       "      <td>Co-work with Dr. ZHANG Wei (Former researcher ...</td>\n",
       "      <td>paper-co-2</td>\n",
       "      <td>https://pubs.acs.org/doi/10.1021/acsanm.1c00375</td>\n",
       "      <td>NaN</td>\n",
       "    </tr>\n",
       "    <tr>\n",
       "      <th>10</th>\n",
       "      <td>2021-02-20</td>\n",
       "      <td>Effect of Water Temperature on Tribological Pe...</td>\n",
       "      <td>Tribology Letters</td>\n",
       "      <td>manuscripts</td>\n",
       "      <td>Co-work with Dr. ZHANG Wei (Former researcher ...</td>\n",
       "      <td>paper-co-1</td>\n",
       "      <td>https://link.springer.com/article/10.1007/s112...</td>\n",
       "      <td>NaN</td>\n",
       "    </tr>\n",
       "  </tbody>\n",
       "</table>\n",
       "</div>"
      ],
      "text/plain": [
       "      pub_date                                              title  \\\n",
       "0   2024-02-17  Development of redox-type thermochemical energ...   \n",
       "1   2023-08-05  An in-depth oxidation kinetic study of CuCr<su...   \n",
       "2   2022-04-26  Effect of Cr Addition on Cu–Mn Spinel/Delafoss...   \n",
       "3   2021-07-08  Exploring Cu-Based Spinel/Delafossite Couples ...   \n",
       "4   2021-04-05  Investigation of Sr-based perovskites for redo...   \n",
       "5   2024-07-14  Development of rice husk composite ceramic sph...   \n",
       "6   2024-05-29  Development of Macro-Encapsulated Phase-Change...   \n",
       "7   2021-07-25  Tribological behaviour of B<sub>4</sub>C-SiC c...   \n",
       "8   2021-04-22  Frictional Characteristics of Carbide Ceramics...   \n",
       "9   2021-03-03  B<sub>4</sub>C–SiC Ceramics with Interfacial N...   \n",
       "10  2021-02-20  Effect of Water Temperature on Tribological Pe...   \n",
       "\n",
       "                                     venue     category  \\\n",
       "0             Chemical Engineering Journal  manuscripts   \n",
       "1   Solar Energy Materials and Solar Cells  manuscripts   \n",
       "2             ACS Applied Energy Materials  manuscripts   \n",
       "3             ACS Applied Energy Materials  manuscripts   \n",
       "4                Journal of Energy Storage  manuscripts   \n",
       "5                   Ceramics International  manuscripts   \n",
       "6                                Processes  manuscripts   \n",
       "7         Materials Science and Technology  manuscripts   \n",
       "8                     Journal of Tribology  manuscripts   \n",
       "9               ACS Applied Nano Materials  manuscripts   \n",
       "10                       Tribology Letters  manuscripts   \n",
       "\n",
       "                                              excerpt    url_slug  \\\n",
       "0   In this study, we developed a CuMn2O4/CuMnO2-b...     paper-5   \n",
       "1   In this study, we investigated the effect of C...     paper-4   \n",
       "2   In this study, we developed Cu(CrxMn1−x)2O4/ C...     paper-3   \n",
       "3   Cu-based spinel/delafossite couples with Mn an...     paper-2   \n",
       "4   Thermochemical heat storage system exhibits ex...     paper-1   \n",
       "5   Co-work with Dr. LIAO Shenghao (Former researc...  paper-co-6   \n",
       "6   Co-work with Dr. LIAO Shenghao (Former researc...  paper-co-5   \n",
       "7   Co-work with Dr. ZHANG Wei (Former researcher ...  paper-co-4   \n",
       "8   Co-work with Dr. ZHANG Wei (Former researcher ...  paper-co-3   \n",
       "9   Co-work with Dr. ZHANG Wei (Former researcher ...  paper-co-2   \n",
       "10  Co-work with Dr. ZHANG Wei (Former researcher ...  paper-co-1   \n",
       "\n",
       "                                            paper_url  slides_url  \n",
       "0   https://linkinghub.elsevier.com/retrieve/pii/S...         NaN  \n",
       "1   https://linkinghub.elsevier.com/retrieve/pii/S...         NaN  \n",
       "2     https://pubs.acs.org/doi/10.1021/acsaem.2c00178         NaN  \n",
       "3     https://pubs.acs.org/doi/10.1021/acsaem.1c01352         NaN  \n",
       "4   https://linkinghub.elsevier.com/retrieve/pii/S...         NaN  \n",
       "5   https://linkinghub.elsevier.com/retrieve/pii/S...         NaN  \n",
       "6            https://www.mdpi.com/2227-9717/12/6/1123         NaN  \n",
       "7   https://www.tandfonline.com/doi/full/10.1080/0...         NaN  \n",
       "8   https://asmedigitalcollection.asme.org/tribolo...         NaN  \n",
       "9     https://pubs.acs.org/doi/10.1021/acsanm.1c00375         NaN  \n",
       "10  https://link.springer.com/article/10.1007/s112...         NaN  "
      ]
     },
     "execution_count": 7,
     "metadata": {},
     "output_type": "execute_result"
    }
   ],
   "source": [
    "publications = pd.read_csv(\"publications.tsv\", sep=\"\\t\", header=0)\n",
    "publications\n"
   ]
  },
  {
   "cell_type": "markdown",
   "metadata": {},
   "source": [
    "## Escape special characters\n",
    "\n",
    "YAML is very picky about how it takes a valid string, so we are replacing single and double quotes (and ampersands) with their HTML encoded equivilents. This makes them look not so readable in raw format, but they are parsed and rendered nicely."
   ]
  },
  {
   "cell_type": "code",
   "execution_count": 9,
   "metadata": {
    "deletable": true,
    "editable": true
   },
   "outputs": [],
   "source": [
    "html_escape_table = {\n",
    "    \"&\": \"&amp;\",\n",
    "    '\"': \"&quot;\",\n",
    "    \"'\": \"&apos;\"\n",
    "    }\n",
    "\n",
    "def html_escape(text):\n",
    "    \"\"\"Produce entities within text.\"\"\"\n",
    "    return \"\".join(html_escape_table.get(c,c) for c in text)"
   ]
  },
  {
   "cell_type": "markdown",
   "metadata": {},
   "source": [
    "## Creating the markdown files\n",
    "\n",
    "This is where the heavy lifting is done. This loops through all the rows in the TSV dataframe, then starts to concatentate a big string (```md```) that contains the markdown for each type. It does the YAML metadata first, then does the description for the individual page."
   ]
  },
  {
   "cell_type": "code",
   "execution_count": 11,
   "metadata": {
    "collapsed": false,
    "deletable": true,
    "editable": true,
    "jupyter": {
     "outputs_hidden": false
    }
   },
   "outputs": [],
   "source": [
    "import os\n",
    "\n",
    "for row, item in publications.iterrows():\n",
    "    md_filename = str(item.pub_date) + \"-\" + item.url_slug + \".md\"\n",
    "    html_filename = str(item.pub_date) + \"-\" + item.url_slug\n",
    "    year = item.pub_date[:4]\n",
    "\n",
    "    ## YAML variables\n",
    "    md = \"---\\n\"\n",
    "    md += f'title: \"{item.title}\"\\n'\n",
    "    md += \"collection: publications\\n\"\n",
    "\n",
    "    category = item.get(\"category\", \"manuscripts\")  # 取值或默认\n",
    "    md += f\"category: {category}\\n\"\n",
    "    \n",
    "    md += f\"permalink: /publication/{html_filename}\\n\"\n",
    "\n",
    "    #if len(str(item.excerpt)) > 5:\n",
    "        #md += f\"excerpt: '{html_escape(item.excerpt)}'\\n\"\n",
    "\n",
    "    md += f\"date: {item.pub_date}\\n\"\n",
    "    md += f\"venue: '{html_escape(item.venue)}'\\n\"\n",
    "\n",
    "    if len(str(item.slides_url)) > 5:\n",
    "        md += f\"slidesurl: '{item.slides_url}'\\n\"\n",
    "\n",
    "    if len(str(item.paper_url)) > 5:\n",
    "        md += f\"paperurl: '{item.paper_url}'\\n\"\n",
    "\n",
    "    #md += f\"citation: '{html_escape(item.citation)}'\\n\" #不需要citation\n",
    "    md += \"---\\n\"\n",
    "\n",
    "    ## Markdown description for individual page\n",
    "    if len(str(item.excerpt)) > 5:\n",
    "        md += f\"\\n{html_escape(item.excerpt)}\\n\"\n",
    "\n",
    "    #if len(str(item.slides_url)) > 5:\n",
    "        #md += f\"\\n[Download slides here]({item.slides_url})\\n\"\n",
    "\n",
    "    #if len(str(item.paper_url)) > 5:\n",
    "        #md += f\"\\n[Download paper here]({item.paper_url})\\n\"\n",
    "\n",
    "    #md += f\"\\nRecommended citation: {item.citation}\" #不需要citation\n",
    "\n",
    "    md_filename = os.path.basename(md_filename)\n",
    "\n",
    "    with open(f\"../_publications/{md_filename}\", \"w\") as f:\n",
    "        f.write(md)\n"
   ]
  },
  {
   "cell_type": "markdown",
   "metadata": {},
   "source": [
    "These files are in the publications directory, one directory below where we're working from."
   ]
  },
  {
   "cell_type": "code",
   "execution_count": 13,
   "metadata": {
    "collapsed": false,
    "deletable": true,
    "editable": true,
    "jupyter": {
     "outputs_hidden": false
    }
   },
   "outputs": [
    {
     "name": "stdout",
     "output_type": "stream",
     "text": [
      "2021-02-20-paper-co-1.md 2021-07-08-paper-2.md    2024-02-17-paper-5.md\n",
      "2021-03-03-paper-co-2.md 2021-07-25-paper-co-4.md 2024-05-29-paper-co-5.md\n",
      "2021-04-05-paper-1.md    2022-04-26-paper-3.md    2024-07-14-paper-co-6.md\n",
      "2021-04-22-paper-co-3.md 2023-08-05-paper-4.md\n"
     ]
    }
   ],
   "source": [
    "!ls ../_publications/"
   ]
  },
  {
   "cell_type": "code",
   "execution_count": 14,
   "metadata": {
    "collapsed": false,
    "deletable": true,
    "editable": true,
    "jupyter": {
     "outputs_hidden": false
    }
   },
   "outputs": [
    {
     "name": "stdout",
     "output_type": "stream",
     "text": [
      "cat: ../_publications/2009-10-01-paper-title-number-1.md: No such file or directory\n"
     ]
    }
   ],
   "source": [
    "!cat ../_publications/2009-10-01-paper-title-number-1.md"
   ]
  },
  {
   "cell_type": "code",
   "execution_count": null,
   "metadata": {
    "collapsed": true,
    "deletable": true,
    "editable": true,
    "jupyter": {
     "outputs_hidden": true
    }
   },
   "outputs": [],
   "source": []
  }
 ],
 "metadata": {
  "kernelspec": {
   "display_name": "Python 3 (ipykernel)",
   "language": "python",
   "name": "python3"
  },
  "language_info": {
   "codemirror_mode": {
    "name": "ipython",
    "version": 3
   },
   "file_extension": ".py",
   "mimetype": "text/x-python",
   "name": "python",
   "nbconvert_exporter": "python",
   "pygments_lexer": "ipython3",
   "version": "3.12.2"
  }
 },
 "nbformat": 4,
 "nbformat_minor": 4
}
